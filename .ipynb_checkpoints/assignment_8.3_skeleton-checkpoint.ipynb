{
 "cells": [
  {
   "cell_type": "code",
   "execution_count": 1,
   "metadata": {},
   "outputs": [],
   "source": [
    "import csv\n",
    "import os\n",
    "from credit_wrapper import *"
   ]
  },
  {
   "cell_type": "code",
   "execution_count": 2,
   "metadata": {},
   "outputs": [
    {
     "name": "stdout",
     "output_type": "stream",
     "text": [
      "Checking transactions...\n",
      "0% remaining\n",
      "9% remaining\n",
      "18% remaining\n",
      "27% remaining\n",
      "36% remaining\n",
      "45% remaining\n",
      "55% remaining\n",
      "64% remaining\n",
      "73% remaining\n",
      "82% remaining\n",
      "91% remaining\n",
      "Done!\n"
     ]
    }
   ],
   "source": [
    "customers = [] #Customer lists of the form [Customer_ID, First_Name, Last_Name, Balance, Credit_Limit]\n",
    "transactions = [] #Transactions lists of the form [Transaction_ID, Customer_ID, Type, Amount] (if inquiry no amount)\n",
    "\n",
    "#Change these when you want to run on different .csv files!\n",
    "customer_file = 'customers_simple.csv'\n",
    "transactions_file = 'transactions_simple.csv'\n",
    "\n",
    "#For both .csv files, load the rows and transactions into lists, then append the lists to a list\n",
    "# of all customers and of all transactions.\n",
    "\n",
    "with open(customer_file) as customer_file:\n",
    "    csv_reader = csv.reader(customer_file, delimiter=',')\n",
    "    for row in csv_reader:\n",
    "        customers.append(row)\n",
    "    customers.pop(0) #This removes the title row\n",
    "\n",
    "with open(transactions_file) as transactions_file:\n",
    "    csv_reader = csv.reader(transactions_file, delimiter=',')\n",
    "    for row in csv_reader:\n",
    "        transactions.append(row)\n",
    "    transactions.pop(0)\n",
    "\n",
    "check_transactions(customers, transactions)"
   ]
  },
  {
   "cell_type": "code",
   "execution_count": 5,
   "metadata": {},
   "outputs": [],
   "source": [
    "#Tool functions\n",
    "def new_purchase(balance, credit, transaction):\n",
    "    ''' Checks if the transaction is greater than than the credit limit, returns the new balance if it is not greater\n",
    "    than the credit limit. Prints an error if it is greater than the credit limit. '''\n",
    "    #INSERT CODE HERE\n",
    "    return False, None\n",
    "\n",
    "def refund(balance, transaction):\n",
    "    ''' Subtracts the transaction amount from the balance. It is okay to go negative here.'''\n",
    "    #INSERT CODE HERE\n",
    "    return None\n",
    "\n",
    "def inquiry(cust_id, first_name,last_name, balance):\n",
    "    ''' Returns a string with the message \n",
    "    \"[first_name] [last_name], your account [cust_id] has a balance of $[balance].\"  \n",
    "    NOTE: cust_id and balance are given as non-strings, while first and last name are strings. '''\n",
    "    return first_name + \" \" + last_name + \", your account \" + str(cust_id) + \" has a balance of $\" + str(balance) + \".\"\n",
    "    return None"
   ]
  },
  {
   "cell_type": "code",
   "execution_count": null,
   "metadata": {},
   "outputs": [],
   "source": [
    "run(customers, transactions, inquiry, new_purchase, refund)"
   ]
  },
  {
   "cell_type": "code",
   "execution_count": 6,
   "metadata": {},
   "outputs": [
    {
     "name": "stdout",
     "output_type": "stream",
     "text": [
      "Rob Stark, your account 123 has a balance of $0.0.\n"
     ]
    }
   ],
   "source": [
    "print (inquiry(123,\"Rob\",\"Stark\",0.00))"
   ]
  },
  {
   "cell_type": "code",
   "execution_count": null,
   "metadata": {},
   "outputs": [],
   "source": []
  }
 ],
 "metadata": {
  "kernelspec": {
   "display_name": "Python 3",
   "language": "python",
   "name": "python3"
  },
  "language_info": {
   "codemirror_mode": {
    "name": "ipython",
    "version": 3
   },
   "file_extension": ".py",
   "mimetype": "text/x-python",
   "name": "python",
   "nbconvert_exporter": "python",
   "pygments_lexer": "ipython3",
   "version": "3.8.5"
  }
 },
 "nbformat": 4,
 "nbformat_minor": 4
}
