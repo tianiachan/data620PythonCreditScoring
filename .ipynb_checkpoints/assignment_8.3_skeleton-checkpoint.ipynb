{
 "cells": [
  {
   "cell_type": "code",
   "execution_count": 1,
   "metadata": {},
   "outputs": [],
   "source": [
    "import csv\n",
    "import os\n",
    "from credit_wrapper import *"
   ]
  },
  {
   "cell_type": "code",
   "execution_count": 36,
   "metadata": {},
   "outputs": [
    {
     "name": "stdout",
     "output_type": "stream",
     "text": [
      "Checking transactions...\n",
      "0% remaining\n",
      "3% remaining\n",
      "6% remaining\n",
      "10% remaining\n",
      "13% remaining\n",
      "16% remaining\n",
      "19% remaining\n",
      "23% remaining\n",
      "26% remaining\n",
      "29% remaining\n",
      "32% remaining\n",
      "35% remaining\n",
      "39% remaining\n",
      "42% remaining\n",
      "45% remaining\n",
      "48% remaining\n",
      "52% remaining\n",
      "55% remaining\n",
      "58% remaining\n",
      "61% remaining\n",
      "65% remaining\n",
      "68% remaining\n",
      "71% remaining\n",
      "74% remaining\n",
      "77% remaining\n",
      "81% remaining\n",
      "84% remaining\n",
      "87% remaining\n",
      "90% remaining\n",
      "94% remaining\n",
      "97% remaining\n",
      "Done!\n"
     ]
    }
   ],
   "source": [
    "customers = [] #Customer lists of the form [Customer_ID, First_Name, Last_Name, Balance, Credit_Limit]\n",
    "transactions = [] #Transactions lists of the form [Transaction_ID, Customer_ID, Type, Amount] (if inquiry no amount)\n",
    "\n",
    "#Change these when you want to run on different .csv files!\n",
    "customer_file = 'customers_test1.csv'\n",
    "transactions_file = 'transactions_test1.csv'\n",
    "\n",
    "#For both .csv files, load the rows and transactions into lists, then append the lists to a list\n",
    "# of all customers and of all transactions.\n",
    "\n",
    "with open(customer_file) as customer_file:\n",
    "    csv_reader = csv.reader(customer_file, delimiter=',')\n",
    "    for row in csv_reader:\n",
    "        customers.append(row)\n",
    "    customers.pop(0) #This removes the title row\n",
    "\n",
    "with open(transactions_file) as transactions_file:\n",
    "    csv_reader = csv.reader(transactions_file, delimiter=',')\n",
    "    for row in csv_reader:\n",
    "        transactions.append(row)\n",
    "    transactions.pop(0)\n",
    "\n",
    "check_transactions(customers, transactions)"
   ]
  },
  {
   "cell_type": "code",
   "execution_count": 43,
   "metadata": {},
   "outputs": [],
   "source": [
    "#Tool functions\n",
    "def new_purchase(balance, credit, transaction):\n",
    "    ''' Checks if the transaction is greater than than the credit limit, returns the new balance if it is not greater\n",
    "    than the credit limit. Prints an error if it is greater than the credit limit. '''\n",
    "    if transaction <= credit:\n",
    "        return True, (balance - transaction)\n",
    "    else:\n",
    "        return False, balance\n",
    "#     return False, None\n",
    "\n",
    "def refund(balance, transaction):\n",
    "    ''' Subtracts the transaction amount from the balance. It is okay to go negative here.'''\n",
    "    return balance - transaction\n",
    "#     return None\n",
    "\n",
    "def inquiry(cust_id, first_name,last_name, balance):\n",
    "    ''' Returns a string with the message \n",
    "    \"[first_name] [last_name], your account [cust_id] has a balance of $[balance].\"  \n",
    "    NOTE: cust_id and balance are given as non-strings, while first and last name are strings. '''\n",
    "    return first_name + \" \" + last_name + \", your account \" + str(cust_id) + \" has a balance of $\" + str(balance) + \".\"\n",
    "#     return None"
   ]
  },
  {
   "cell_type": "code",
   "execution_count": 44,
   "metadata": {},
   "outputs": [
    {
     "name": "stdout",
     "output_type": "stream",
     "text": [
      "Parsing through transactions...\n",
      "Purchase for Customer 100 for amount of $10.0\n",
      "John Smith your account 100 had a previous balance of $75.0 and after your successful purchase of $10 you have a balance of $65.0\n",
      "John Smith your account 100 had a previous balance of $65.0 and after your refund of $15 you now have a balance of $50.0\n",
      "Lee Vo, your account 102 has a balance of $-1100.0.\n",
      "John Smith, your account 100 has a balance of $50.0.\n",
      "Purchase for Customer 101 for amount of $100.0\n",
      "Susie Brown your account 101 had a previous balance of $48.0 and after your successful purchase of $100 you have a balance of $-52.0\n",
      "Purchase for Customer 104 for amount of $80.0\n",
      "Matthew Rivera your account 104 had a previous balance of $120.0 and after your successful purchase of $80 you have a balance of $40.0\n",
      "Matthew Rivera, your account 104 has a balance of $40.0.\n",
      "Frank Reynolds, your account 103 has a balance of $-180.0.\n",
      "Purchase for Customer 103 for amount of $50.0\n",
      "Frank Reynolds your account 103 had a previous balance of $-180.0 and after your successful purchase of $50 you have a balance of $-230.0\n",
      "Frank Reynolds your account 103 had a previous balance of $-230.0 and after your refund of $80 you now have a balance of $-310.0\n",
      "Purchase for Customer 103 for amount of $50.0\n",
      "Frank Reynolds your account 103 had a previous balance of $-310.0 and after your successful purchase of $50 you have a balance of $-360.0\n",
      "Purchase for Customer 106 for amount of $100.0\n",
      "Bitter Melon your account 106 had a previous balance of $200.0 and after your successful purchase of $100 you have a balance of $100.0\n",
      "Bitter Melon, your account 106 has a balance of $100.0.\n",
      "Fuschia Winters, your account 110 has a balance of $700.0.\n",
      "Purchase for Customer 110 for amount of $10.0\n",
      "Fuschia Winters your account 110 had a previous balance of $700.0 and after your successful purchase of $10 you have a balance of $690.0\n",
      "Purchase for Customer 110 for amount of $80.0\n",
      "Fuschia Winters your account 110 had a previous balance of $690.0 and after your successful purchase of $80 you have a balance of $610.0\n",
      "Loraine Regson, your account 107 has a balance of $-2060.0.\n",
      "Purchase for Customer 107 for amount of $3000.0\n",
      "Loraine Regson your account 107 had a previous balance of $-2060.0 and after your successful purchase of $3000 you have a balance of $-5060.0\n",
      "Lee Vo your account 102 had a previous balance of $-1100.0 and after your refund of $1000 you now have a balance of $-2100.0\n",
      "Purchase for Customer 102 for amount of $100.0\n",
      "Lee Vo your account 102 had a previous balance of $-2100.0 and after your successful purchase of $100 you have a balance of $-2200.0\n",
      "Lee Vo, your account 102 has a balance of $-2200.0.\n",
      "Purchase for Customer 108 for amount of $60.0\n",
      "Dan Stan your account 108 had a previous balance of $-30.0 and after your successful purchase of $60 you have a balance of $-90.0\n",
      "Purchase for Customer 108 for amount of $10.0\n",
      "Dan Stan your account 108 had a previous balance of $-90.0 and after your successful purchase of $10 you have a balance of $-100.0\n",
      "Sid Sloth, your account 109 has a balance of $780.\n",
      "Frank Reynolds your account 103 had a previous balance of $-360.0 and after your refund of $100 you now have a balance of $-460.0\n",
      "Purchase for Customer 101 for amount of $2.0\n",
      "Susie Brown your account 101 had a previous balance of $-52.0 and after your successful purchase of $2 you have a balance of $-54.0\n",
      "Your hash is 3435\n"
     ]
    }
   ],
   "source": [
    "run(customers, transactions, inquiry, new_purchase, refund)"
   ]
  },
  {
   "cell_type": "code",
   "execution_count": 39,
   "metadata": {},
   "outputs": [
    {
     "name": "stdout",
     "output_type": "stream",
     "text": [
      "Rob Stark, your account 123 has a balance of $0.0.\n"
     ]
    }
   ],
   "source": [
    "#testing the functions work\n",
    "print (inquiry(123,\"Rob\",\"Stark\",0.00))"
   ]
  },
  {
   "cell_type": "code",
   "execution_count": 40,
   "metadata": {},
   "outputs": [
    {
     "name": "stdout",
     "output_type": "stream",
     "text": [
      "-50\n"
     ]
    }
   ],
   "source": [
    "print(refund(50,100))"
   ]
  },
  {
   "cell_type": "code",
   "execution_count": 42,
   "metadata": {},
   "outputs": [
    {
     "name": "stdout",
     "output_type": "stream",
     "text": [
      "(False, 100)\n"
     ]
    }
   ],
   "source": [
    "print(new_purchase(100,0,100))"
   ]
  },
  {
   "cell_type": "code",
   "execution_count": null,
   "metadata": {},
   "outputs": [],
   "source": []
  }
 ],
 "metadata": {
  "kernelspec": {
   "display_name": "Python 3",
   "language": "python",
   "name": "python3"
  },
  "language_info": {
   "codemirror_mode": {
    "name": "ipython",
    "version": 3
   },
   "file_extension": ".py",
   "mimetype": "text/x-python",
   "name": "python",
   "nbconvert_exporter": "python",
   "pygments_lexer": "ipython3",
   "version": "3.8.5"
  }
 },
 "nbformat": 4,
 "nbformat_minor": 4
}
